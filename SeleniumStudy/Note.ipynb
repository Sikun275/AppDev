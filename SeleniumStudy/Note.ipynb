{
 "cells": [
  {
   "cell_type": "markdown",
   "metadata": {},
   "source": [
    "some basic lib\n"
   ]
  },
  {
   "cell_type": "code",
   "execution_count": null,
   "metadata": {},
   "outputs": [],
   "source": [
    "from selenium import webdriver\n",
    "from selenium.webdriver.common.keys import Keys\n",
    "from selenium.webdriver.common.by import By"
   ]
  },
  {
   "cell_type": "code",
   "execution_count": null,
   "metadata": {
    "vscode": {
     "languageId": "plaintext"
    }
   },
   "outputs": [],
   "source": [
    "if using Chrome"
   ]
  },
  {
   "cell_type": "code",
   "execution_count": null,
   "metadata": {},
   "outputs": [],
   "source": [
    "from selenium.webdriver.chrome.service import Service\n",
    "from webdriver_manager.chrome import ChromeDriverManager"
   ]
  },
  {
   "cell_type": "markdown",
   "metadata": {},
   "source": [
    "more advance"
   ]
  },
  {
   "cell_type": "code",
   "execution_count": null,
   "metadata": {},
   "outputs": [],
   "source": [
    "from selenium.webdriver.support.ui import WebDriverWait # WebDriverWait is a class that is used to wait for a certain condition to be met before proceeding.\n",
    "from selenium.webdriver.support import expected_conditions as EC # expected_conditions is a module that contains the expected conditions that can be used to wait for a certain condition to be met.\n",
    "\n",
    "from selenium.webdriver.support.ui import Select # Select is a class that is used to select an option from a dropdown menu.\n",
    "\n",
    "import time\n"
   ]
  },
  {
   "cell_type": "code",
   "execution_count": null,
   "metadata": {},
   "outputs": [],
   "source": [
    "# By\n",
    "element = driver.find_element(By.ID, \"passwd-id\")\n",
    "element = driver.find_element(By.NAME, \"passwd\")\n",
    "element = driver.find_element(By.XPATH, \"//input[@id='passwd-id']\")\n",
    "element = driver.find_element(By.CSS_SELECTOR, \"input#passwd-id\")"
   ]
  },
  {
   "cell_type": "code",
   "execution_count": null,
   "metadata": {},
   "outputs": [],
   "source": [
    "# Select\n",
    "select = Select(driver.find_element(By.NAME, 'name'))\n",
    "select.select_by_index(index)\n",
    "select.select_by_visible_text(\"text\")\n",
    "select.select_by_value(value)\n",
    "\n",
    "select.deselect_all()"
   ]
  }
 ],
 "metadata": {
  "language_info": {
   "name": "python"
  }
 },
 "nbformat": 4,
 "nbformat_minor": 2
}
