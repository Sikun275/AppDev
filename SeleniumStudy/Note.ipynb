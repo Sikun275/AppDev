{
 "cells": [
  {
   "cell_type": "markdown",
   "metadata": {},
   "source": [
    "some basic lib\n"
   ]
  },
  {
   "cell_type": "code",
   "execution_count": null,
   "metadata": {},
   "outputs": [],
   "source": [
    "from selenium import webdriver\n",
    "from selenium.webdriver.common.keys import Keys\n",
    "from selenium.webdriver.common.by import By"
   ]
  },
  {
   "cell_type": "markdown",
   "metadata": {
    "vscode": {
     "languageId": "plaintext"
    }
   },
   "source": [
    "if using Chrome"
   ]
  },
  {
   "cell_type": "code",
   "execution_count": null,
   "metadata": {},
   "outputs": [],
   "source": [
    "from selenium.webdriver.chrome.service import Service\n",
    "from webdriver_manager.chrome import ChromeDriverManager"
   ]
  },
  {
   "cell_type": "markdown",
   "metadata": {},
   "source": [
    "more advance"
   ]
  },
  {
   "cell_type": "code",
   "execution_count": null,
   "metadata": {},
   "outputs": [],
   "source": [
    "from selenium.webdriver.support.ui import WebDriverWait # WebDriverWait is a class that is used to wait for a certain condition to be met before proceeding.\n",
    "from selenium.webdriver.support import expected_conditions as EC # expected_conditions is a module that contains the expected conditions that can be used to wait for a certain condition to be met.\n",
    "\n",
    "from selenium.webdriver.support.ui import Select # Select is a class that is used to select an option from a dropdown menu.\n",
    "\n",
    "import time\n"
   ]
  },
  {
   "cell_type": "code",
   "execution_count": null,
   "metadata": {},
   "outputs": [],
   "source": [
    "# By\n",
    "element = driver.find_element(By.ID, \"passwd-id\")\n",
    "element = driver.find_element(By.NAME, \"passwd\")\n",
    "element = driver.find_element(By.XPATH, \"//input[@id='passwd-id']\")\n",
    "element = driver.find_element(By.CSS_SELECTOR, \"input#passwd-id\")"
   ]
  },
  {
   "cell_type": "code",
   "execution_count": null,
   "metadata": {},
   "outputs": [],
   "source": [
    "# Select\n",
    "select = Select(driver.find_element(By.NAME, 'name'))\n",
    "select.select_by_index(index)\n",
    "select.select_by_visible_text(\"text\")\n",
    "select.select_by_value(value)\n",
    "\n",
    "select.deselect_all()"
   ]
  },
  {
   "cell_type": "markdown",
   "metadata": {},
   "source": [
    "Drag and Drop"
   ]
  },
  {
   "cell_type": "code",
   "execution_count": null,
   "metadata": {},
   "outputs": [],
   "source": [
    "from selenium.webdriver import ActionChains\n",
    "\n",
    "element = driver.find_element(By.NAME, \"source\")\n",
    "target = driver.find_element(By.NAME, \"target\")\n",
    "\n",
    "action_chains = ActionChains(driver)\n",
    "action_chains.drag_and_drop(element, target).perform()"
   ]
  },
  {
   "cell_type": "markdown",
   "metadata": {},
   "source": [
    "moving btw windows"
   ]
  },
  {
   "cell_type": "code",
   "execution_count": null,
   "metadata": {},
   "outputs": [],
   "source": [
    "driver.switch_to.window(\"windowName\") # but how to get the window name?\n",
    "\n",
    "# use window_handles to get the window name\n",
    "for handle in driver.window_handles:\n",
    "    driver.switch_to.window(handle)"
   ]
  },
  {
   "cell_type": "markdown",
   "metadata": {},
   "source": [
    "not just windows, but also frames or iframes and there sub"
   ]
  },
  {
   "cell_type": "code",
   "execution_count": null,
   "metadata": {},
   "outputs": [],
   "source": [
    "driver.switch_to.frame(\"frameName\")\n",
    "\n",
    "driver.switch_to.frame(\"frameName.0.child\") # subframe \n"
   ]
  },
  {
   "cell_type": "markdown",
   "metadata": {},
   "source": [
    "Once we are done with working on frames, we will have to come back to the parent frame which can be done using:"
   ]
  },
  {
   "cell_type": "code",
   "execution_count": null,
   "metadata": {},
   "outputs": [],
   "source": [
    "driver.switch_to.default_content()"
   ]
  },
  {
   "cell_type": "markdown",
   "metadata": {},
   "source": [
    "popup dialogs\n",
    "\n",
    "built-in support for handling popup dialog boxes\n",
    "After triggered action that would open a popup, you can access the alert with, and with this object, you can now accept, dismiss, read its contents or even type into a prompt.\n"
   ]
  },
  {
   "cell_type": "code",
   "execution_count": null,
   "metadata": {},
   "outputs": [],
   "source": [
    "alert = driver.switch_to.alert"
   ]
  },
  {
   "cell_type": "markdown",
   "metadata": {},
   "source": [
    "history and location\n",
    "\n",
    "To move backward and forward in the browser’s history:"
   ]
  },
  {
   "cell_type": "code",
   "execution_count": null,
   "metadata": {},
   "outputs": [],
   "source": [
    "driver.forward()\n",
    "driver.back()"
   ]
  },
  {
   "cell_type": "markdown",
   "metadata": {},
   "source": [
    "cookies"
   ]
  },
  {
   "cell_type": "code",
   "execution_count": null,
   "metadata": {},
   "outputs": [],
   "source": [
    "# Go to the correct domain\n",
    "driver.get(\"http://www.example.com\")\n",
    "\n",
    "# Now set the cookie. This one's valid for the entire domain\n",
    "cookie = {'name' : 'foo', 'value' : 'bar'}\n",
    "driver.add_cookie(cookie)\n",
    "\n",
    "# And now output all the available cookies for the current URL\n",
    "driver.get_cookies()"
   ]
  },
  {
   "cell_type": "markdown",
   "metadata": {},
   "source": [
    "Waits\n",
    "- explicit wait makes WebDriver wait for a certain condition to occur before proceeding further with execution\n",
    "-implicit wait makes WebDriver poll the DOM for a certain amount of time when trying to locate an element\n",
    "- https://selenium-python.readthedocs.io/waits.html"
   ]
  },
  {
   "cell_type": "code",
   "execution_count": null,
   "metadata": {},
   "outputs": [],
   "source": [
    "# explicit\n",
    "driver = webdriver.Firefox()\n",
    "driver.get(\"http://somedomain/url_that_delays_loading\")\n",
    "try:\n",
    "    element = WebDriverWait(driver, 10).until(\n",
    "        EC.presence_of_element_located((By.ID, \"myDynamicElement\"))\n",
    "    )\n",
    "finally:\n",
    "    driver.quit()\n",
    "\n",
    "#implicit\n",
    "driver = webdriver.Firefox()\n",
    "driver.implicitly_wait(10) # seconds\n",
    "driver.get(\"http://somedomain/url_that_delays_loading\")\n",
    "myDynamicElement = driver.find_element_by_id(\"myDynamicElement\")"
   ]
  },
  {
   "cell_type": "markdown",
   "metadata": {},
   "source": [
    "WebDriver API !!!\n",
    "\n",
    "https://selenium-python.readthedocs.io/api.html"
   ]
  }
 ],
 "metadata": {
  "language_info": {
   "name": "python"
  }
 },
 "nbformat": 4,
 "nbformat_minor": 2
}
